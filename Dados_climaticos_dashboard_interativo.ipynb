{
 "cells": [
  {
   "cell_type": "code",
   "execution_count": 8,
   "metadata": {},
   "outputs": [],
   "source": [
    "# pip install requests dash pandas plotly"
   ]
  },
  {
   "cell_type": "code",
   "execution_count": 10,
   "metadata": {},
   "outputs": [
    {
     "name": "stdout",
     "output_type": "stream",
     "text": [
      "Get weather information.\n"
     ]
    }
   ],
   "source": [
    "print('Get weather information.')\n",
    "\n",
    "# Função para buscar dados da API\n",
    "def fetch_weather_data(city):\n",
    "    url = f\"http://api.openweathermap.org/data/2.5/weather?q={city}&appid={API_KEY}&units=metric\"\n",
    "    response = requests.get(url)\n",
    "    if response.status_code == 200:\n",
    "        data = response.json()\n",
    "        weather_data = {\n",
    "            \"City\": data[\"name\"],\n",
    "            \"Temperature (°C)\": data[\"main\"][\"temp\"],\n",
    "            \"Humidity (%)\": data[\"main\"][\"humidity\"],\n",
    "            \"Weather\": data[\"weather\"][0][\"description\"].capitalize(),\n",
    "        }\n",
    "        return pd.DataFrame([weather_data])\n",
    "    else:\n",
    "        return pd.DataFrame([{\"Error\": \"City not found or API limit reached.\"}])\n",
    "\n"
   ]
  }
 ],
 "metadata": {
  "kernelspec": {
   "display_name": "Python 3",
   "language": "python",
   "name": "python3"
  },
  "language_info": {
   "codemirror_mode": {
    "name": "ipython",
    "version": 3
   },
   "file_extension": ".py",
   "mimetype": "text/x-python",
   "name": "python",
   "nbconvert_exporter": "python",
   "pygments_lexer": "ipython3",
   "version": "3.11.5"
  }
 },
 "nbformat": 4,
 "nbformat_minor": 2
}
