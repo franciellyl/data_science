{
  "nbformat": 4,
  "nbformat_minor": 0,
  "metadata": {
    "colab": {
      "name": "Histograma para Data Science - Análise de Notificações de casos suspeitos de COVID-19.ipynb",
      "provenance": [],
      "authorship_tag": "ABX9TyPxnqrGvax/+eN+WbLxdzRl",
      "include_colab_link": true
    },
    "kernelspec": {
      "name": "python3",
      "display_name": "Python 3"
    }
  },
  "cells": [
    {
      "cell_type": "markdown",
      "metadata": {
        "id": "view-in-github",
        "colab_type": "text"
      },
      "source": [
        "<a href=\"https://colab.research.google.com/github/franciellyl/data_science/blob/main/Histograma_para_Data_Science_An%C3%A1lise_de_Notifica%C3%A7%C3%B5es_de_casos_suspeitos_de_COVID_19.ipynb\" target=\"_parent\"><img src=\"https://colab.research.google.com/assets/colab-badge.svg\" alt=\"Open In Colab\"/></a>"
      ]
    },
    {
      "cell_type": "code",
      "metadata": {
        "id": "AnG6jim_1D62"
      },
      "source": [
        "#imports\r\n",
        "import pandas as pd\r\n",
        "import matplotlib.pyplot as plt\r\n",
        "import seaborn as sns\r\n",
        "import urllib.request\r\n",
        "import os\r\n",
        "\r\n",
        "#configuration\r\n",
        "pd.options.display.max_columns = None\r\n",
        "%matplotlib inline"
      ],
      "execution_count": 9,
      "outputs": []
    },
    {
      "cell_type": "code",
      "metadata": {
        "colab": {
          "base_uri": "https://localhost:8080/"
        },
        "id": "S6XoDGeg2epu",
        "outputId": "1cdf5e3d-c89b-45f8-aa95-471c9275837d"
      },
      "source": [
        "#URL com os dados das notificações de Síndrome Gripal de casos leves a moderados suspeitos de COVID-19.\r\n",
        "#Dados referentes ao volume 1 de 7 do Estado de São Paulo.\r\n",
        "DATA_URL =\"https://s3-sa-east-1.amazonaws.com/ckan.saude.gov.br/dados-sp-1.csv\"\r\n",
        "\r\n",
        "def get_covid_data(data_url=DATA_URL):\r\n",
        "  \"\"\"\r\n",
        "  Baixar os dados das notificações de Síndrome Gripal de casos leves a moderados supeitos de COVID-19.\r\n",
        "  \r\n",
        "  Parâmetros: \r\n",
        "    data_url(string): Endereço do arquivo csv com dados das notificações.\r\n",
        "  Retorno:\r\n",
        "    None\r\n",
        "  \"\"\"\r\n",
        "  csv_file = data_url.split(os.sep)[-1]\r\n",
        "\r\n",
        "  if not os.path.isfile(csv_file):\r\n",
        "    urllib.request.urlretrieve(DATA_URL, 'dados-sp-1.csv')\r\n",
        "    print(\"[+] Arquivo baixado.\")\r\n",
        "\r\n",
        "  else:\r\n",
        "    print(\"[+] O arquivo '{}' já existe na pasta.\".format(csv_file))\r\n",
        "\r\n",
        "#baixar dados das notificações\r\n",
        "get_covid_data()\r\n"
      ],
      "execution_count": 19,
      "outputs": [
        {
          "output_type": "stream",
          "text": [
            "[+] O arquivo 'dados-sp-1.csv' já existe na pasta.\n"
          ],
          "name": "stdout"
        }
      ]
    },
    {
      "cell_type": "code",
      "metadata": {
        "colab": {
          "base_uri": "https://localhost:8080/"
        },
        "id": "EgPEWDYv9STo",
        "outputId": "1c5debd8-ebf9-49f5-9f43-a5c248976a9c"
      },
      "source": [
        "#importar dados do csv para um DataFrame no Pandas\r\n",
        "df = pd.read_csv('dados-sp-1.csv', sep=\";\", encoding=\"ISO-8859-1\")\r\n",
        "\r\n",
        "#verificar a quantidade de entradas do arquivo\r\n",
        "print(\"{} colunas e {} linhas de entrada.\".format(df.shape[1], df.shape[0]))"
      ],
      "execution_count": 20,
      "outputs": [
        {
          "output_type": "stream",
          "text": [
            "/usr/local/lib/python3.6/dist-packages/IPython/core/interactiveshell.py:2718: DtypeWarning: Columns (15,17,21,23,26) have mixed types.Specify dtype option on import or set low_memory=False.\n",
            "  interactivity=interactivity, compiler=compiler, result=result)\n"
          ],
          "name": "stderr"
        },
        {
          "output_type": "stream",
          "text": [
            "30 colunas e 1000000 linhas de entrada.\n"
          ],
          "name": "stdout"
        }
      ]
    },
    {
      "cell_type": "code",
      "metadata": {
        "colab": {
          "base_uri": "https://localhost:8080/",
          "height": 343
        },
        "id": "IiIteDvrDyC8",
        "outputId": "31eb5905-e297-450a-be1f-1bb98f7a738f"
      },
      "source": [
        "#verificar primeiras entradas do DataFrame\r\n",
        "df.head()"
      ],
      "execution_count": 14,
      "outputs": [
        {
          "output_type": "execute_result",
          "data": {
            "text/html": [
              "<div>\n",
              "<style scoped>\n",
              "    .dataframe tbody tr th:only-of-type {\n",
              "        vertical-align: middle;\n",
              "    }\n",
              "\n",
              "    .dataframe tbody tr th {\n",
              "        vertical-align: top;\n",
              "    }\n",
              "\n",
              "    .dataframe thead th {\n",
              "        text-align: right;\n",
              "    }\n",
              "</style>\n",
              "<table border=\"1\" class=\"dataframe\">\n",
              "  <thead>\n",
              "    <tr style=\"text-align: right;\">\n",
              "      <th></th>\n",
              "      <th>ÿid</th>\n",
              "      <th>dataNotificacao</th>\n",
              "      <th>dataInicioSintomas</th>\n",
              "      <th>dataNascimento</th>\n",
              "      <th>sintomas</th>\n",
              "      <th>profissionalSaude</th>\n",
              "      <th>cbo</th>\n",
              "      <th>condicoes</th>\n",
              "      <th>estadoTeste</th>\n",
              "      <th>dataTeste</th>\n",
              "      <th>tipoTeste</th>\n",
              "      <th>resultadoTeste</th>\n",
              "      <th>paisOrigem</th>\n",
              "      <th>sexo</th>\n",
              "      <th>estado</th>\n",
              "      <th>estadoIBGE</th>\n",
              "      <th>municipio</th>\n",
              "      <th>municipioIBGE</th>\n",
              "      <th>origem</th>\n",
              "      <th>cnes</th>\n",
              "      <th>estadoNotificacao</th>\n",
              "      <th>estadoNotificacaoIBGE</th>\n",
              "      <th>municipioNotificacao</th>\n",
              "      <th>municipioNotificacaoIBGE</th>\n",
              "      <th>excluido</th>\n",
              "      <th>validado</th>\n",
              "      <th>idade</th>\n",
              "      <th>dataEncerramento</th>\n",
              "      <th>evolucaoCaso</th>\n",
              "      <th>classificacaoFinal</th>\n",
              "    </tr>\n",
              "  </thead>\n",
              "  <tbody>\n",
              "    <tr>\n",
              "      <th>0</th>\n",
              "      <td>uASeuqrGky</td>\n",
              "      <td>2020-07-01T19:07:21.317Z</td>\n",
              "      <td>2020-06-19T03:00:00.000Z</td>\n",
              "      <td>1991-05-12T03:00:00.000Z</td>\n",
              "      <td>Dor de Garganta, Febre, Tosse</td>\n",
              "      <td>Não</td>\n",
              "      <td>NaN</td>\n",
              "      <td>NaN</td>\n",
              "      <td>Concluído</td>\n",
              "      <td>2020-06-25T03:00:00.000Z</td>\n",
              "      <td>RT-PCR</td>\n",
              "      <td>Negativo</td>\n",
              "      <td>undefined</td>\n",
              "      <td>Feminino</td>\n",
              "      <td>SÃO PAULO</td>\n",
              "      <td>35</td>\n",
              "      <td>São José dos Campos</td>\n",
              "      <td>3549904</td>\n",
              "      <td>undefined</td>\n",
              "      <td>3042529</td>\n",
              "      <td>SÃO PAULO</td>\n",
              "      <td>35</td>\n",
              "      <td>São José dos Campos</td>\n",
              "      <td>3549904</td>\n",
              "      <td>undefined</td>\n",
              "      <td>undefined</td>\n",
              "      <td>29</td>\n",
              "      <td>2020-07-03T03:00:00.000Z</td>\n",
              "      <td>Ignorado</td>\n",
              "      <td>Descartado</td>\n",
              "    </tr>\n",
              "    <tr>\n",
              "      <th>1</th>\n",
              "      <td>UHCw5QTQE6</td>\n",
              "      <td>2020-07-07T13:40:32.574Z</td>\n",
              "      <td>2020-07-03T03:00:00.000Z</td>\n",
              "      <td>1972-11-04T03:00:00.000Z</td>\n",
              "      <td>Febre, Tosse, Outros</td>\n",
              "      <td>Não</td>\n",
              "      <td>NaN</td>\n",
              "      <td>NaN</td>\n",
              "      <td>Concluído</td>\n",
              "      <td>2020-07-07T03:00:00.000Z</td>\n",
              "      <td>RT-PCR</td>\n",
              "      <td>Negativo</td>\n",
              "      <td>undefined</td>\n",
              "      <td>Feminino</td>\n",
              "      <td>SÃO PAULO</td>\n",
              "      <td>35</td>\n",
              "      <td>Jales</td>\n",
              "      <td>3524808</td>\n",
              "      <td>undefined</td>\n",
              "      <td>6371531</td>\n",
              "      <td>SÃO PAULO</td>\n",
              "      <td>35</td>\n",
              "      <td>Jales</td>\n",
              "      <td>3524808</td>\n",
              "      <td>undefined</td>\n",
              "      <td>undefined</td>\n",
              "      <td>47</td>\n",
              "      <td>2020-07-10T03:00:00.000Z</td>\n",
              "      <td>Cura</td>\n",
              "      <td>Descartado</td>\n",
              "    </tr>\n",
              "    <tr>\n",
              "      <th>2</th>\n",
              "      <td>102460</td>\n",
              "      <td>2020-03-12T03:00:00.000Z</td>\n",
              "      <td>2020-03-09T03:00:00.000Z</td>\n",
              "      <td>1970-08-11T03:00:00.000Z</td>\n",
              "      <td>Dispnéia,Febre,Tosse</td>\n",
              "      <td>Não</td>\n",
              "      <td>NaN</td>\n",
              "      <td>NaN</td>\n",
              "      <td>Concluído</td>\n",
              "      <td>2020-04-28T03:00:00.000Z</td>\n",
              "      <td>RT-PCR</td>\n",
              "      <td>Positivo</td>\n",
              "      <td>undefined</td>\n",
              "      <td>Masculino</td>\n",
              "      <td>SÃO PAULO</td>\n",
              "      <td>undefined</td>\n",
              "      <td>São Sebastião</td>\n",
              "      <td>undefined</td>\n",
              "      <td>undefined</td>\n",
              "      <td>undefined</td>\n",
              "      <td>NaN</td>\n",
              "      <td>undefined</td>\n",
              "      <td>Sao Sebastiao</td>\n",
              "      <td>undefined</td>\n",
              "      <td>undefined</td>\n",
              "      <td>undefined</td>\n",
              "      <td>50</td>\n",
              "      <td>2020-07-10T03:00:00.000Z</td>\n",
              "      <td>Cura</td>\n",
              "      <td>Confirmado Laboratorial</td>\n",
              "    </tr>\n",
              "    <tr>\n",
              "      <th>3</th>\n",
              "      <td>WWJd56olVE</td>\n",
              "      <td>2020-07-10T18:36:00.853Z</td>\n",
              "      <td>2020-07-01T03:00:00.000Z</td>\n",
              "      <td>1990-06-11T03:00:00.000Z</td>\n",
              "      <td>Dor de Garganta</td>\n",
              "      <td>Não</td>\n",
              "      <td>NaN</td>\n",
              "      <td>NaN</td>\n",
              "      <td>Concluído</td>\n",
              "      <td>2020-07-06T03:00:00.000Z</td>\n",
              "      <td>RT-PCR</td>\n",
              "      <td>Negativo</td>\n",
              "      <td>undefined</td>\n",
              "      <td>Masculino</td>\n",
              "      <td>SÃO PAULO</td>\n",
              "      <td>35</td>\n",
              "      <td>Osasco</td>\n",
              "      <td>3534401</td>\n",
              "      <td>undefined</td>\n",
              "      <td>2058391</td>\n",
              "      <td>SÃO PAULO</td>\n",
              "      <td>35</td>\n",
              "      <td>São Paulo</td>\n",
              "      <td>3550308</td>\n",
              "      <td>undefined</td>\n",
              "      <td>undefined</td>\n",
              "      <td>30</td>\n",
              "      <td>NaN</td>\n",
              "      <td>NaN</td>\n",
              "      <td>NaN</td>\n",
              "    </tr>\n",
              "    <tr>\n",
              "      <th>4</th>\n",
              "      <td>Y900FAGdsH</td>\n",
              "      <td>2020-06-29T03:00:00.000Z</td>\n",
              "      <td>2020-06-05T03:00:00.000Z</td>\n",
              "      <td>1964-02-11T02:00:00.000Z</td>\n",
              "      <td>Febre, Tosse, Outros</td>\n",
              "      <td>Sim</td>\n",
              "      <td>2235 - ENFERMEIRO</td>\n",
              "      <td>NaN</td>\n",
              "      <td>Concluído</td>\n",
              "      <td>2020-06-29T03:00:00.000Z</td>\n",
              "      <td>TESTE RÁPIDO - ANTICORPO</td>\n",
              "      <td>Negativo</td>\n",
              "      <td>undefined</td>\n",
              "      <td>Feminino</td>\n",
              "      <td>SÃO PAULO</td>\n",
              "      <td>35</td>\n",
              "      <td>São Paulo</td>\n",
              "      <td>3550308</td>\n",
              "      <td>undefined</td>\n",
              "      <td>2027062</td>\n",
              "      <td>SÃO PAULO</td>\n",
              "      <td>35</td>\n",
              "      <td>São Paulo</td>\n",
              "      <td>3550308</td>\n",
              "      <td>undefined</td>\n",
              "      <td>undefined</td>\n",
              "      <td>56</td>\n",
              "      <td>NaN</td>\n",
              "      <td>NaN</td>\n",
              "      <td>NaN</td>\n",
              "    </tr>\n",
              "  </tbody>\n",
              "</table>\n",
              "</div>"
            ],
            "text/plain": [
              "          ÿid           dataNotificacao        dataInicioSintomas  \\\n",
              "0  uASeuqrGky  2020-07-01T19:07:21.317Z  2020-06-19T03:00:00.000Z   \n",
              "1  UHCw5QTQE6  2020-07-07T13:40:32.574Z  2020-07-03T03:00:00.000Z   \n",
              "2      102460  2020-03-12T03:00:00.000Z  2020-03-09T03:00:00.000Z   \n",
              "3  WWJd56olVE  2020-07-10T18:36:00.853Z  2020-07-01T03:00:00.000Z   \n",
              "4  Y900FAGdsH  2020-06-29T03:00:00.000Z  2020-06-05T03:00:00.000Z   \n",
              "\n",
              "             dataNascimento                       sintomas profissionalSaude  \\\n",
              "0  1991-05-12T03:00:00.000Z  Dor de Garganta, Febre, Tosse               Não   \n",
              "1  1972-11-04T03:00:00.000Z           Febre, Tosse, Outros               Não   \n",
              "2  1970-08-11T03:00:00.000Z           Dispnéia,Febre,Tosse               Não   \n",
              "3  1990-06-11T03:00:00.000Z                Dor de Garganta               Não   \n",
              "4  1964-02-11T02:00:00.000Z           Febre, Tosse, Outros               Sim   \n",
              "\n",
              "                 cbo condicoes estadoTeste                 dataTeste  \\\n",
              "0                NaN       NaN   Concluído  2020-06-25T03:00:00.000Z   \n",
              "1                NaN       NaN   Concluído  2020-07-07T03:00:00.000Z   \n",
              "2                NaN       NaN   Concluído  2020-04-28T03:00:00.000Z   \n",
              "3                NaN       NaN   Concluído  2020-07-06T03:00:00.000Z   \n",
              "4  2235 - ENFERMEIRO       NaN   Concluído  2020-06-29T03:00:00.000Z   \n",
              "\n",
              "                  tipoTeste resultadoTeste paisOrigem       sexo     estado  \\\n",
              "0                    RT-PCR       Negativo  undefined   Feminino  SÃO PAULO   \n",
              "1                    RT-PCR       Negativo  undefined   Feminino  SÃO PAULO   \n",
              "2                    RT-PCR       Positivo  undefined  Masculino  SÃO PAULO   \n",
              "3                    RT-PCR       Negativo  undefined  Masculino  SÃO PAULO   \n",
              "4  TESTE RÁPIDO - ANTICORPO       Negativo  undefined   Feminino  SÃO PAULO   \n",
              "\n",
              "  estadoIBGE            municipio municipioIBGE     origem       cnes  \\\n",
              "0         35  São José dos Campos       3549904  undefined    3042529   \n",
              "1         35                Jales       3524808  undefined    6371531   \n",
              "2  undefined        São Sebastião     undefined  undefined  undefined   \n",
              "3         35               Osasco       3534401  undefined    2058391   \n",
              "4         35            São Paulo       3550308  undefined    2027062   \n",
              "\n",
              "  estadoNotificacao estadoNotificacaoIBGE municipioNotificacao  \\\n",
              "0         SÃO PAULO                    35  São José dos Campos   \n",
              "1         SÃO PAULO                    35                Jales   \n",
              "2               NaN             undefined        Sao Sebastiao   \n",
              "3         SÃO PAULO                    35            São Paulo   \n",
              "4         SÃO PAULO                    35            São Paulo   \n",
              "\n",
              "  municipioNotificacaoIBGE   excluido   validado idade  \\\n",
              "0                  3549904  undefined  undefined    29   \n",
              "1                  3524808  undefined  undefined    47   \n",
              "2                undefined  undefined  undefined    50   \n",
              "3                  3550308  undefined  undefined    30   \n",
              "4                  3550308  undefined  undefined    56   \n",
              "\n",
              "           dataEncerramento evolucaoCaso       classificacaoFinal  \n",
              "0  2020-07-03T03:00:00.000Z     Ignorado               Descartado  \n",
              "1  2020-07-10T03:00:00.000Z         Cura               Descartado  \n",
              "2  2020-07-10T03:00:00.000Z         Cura  Confirmado Laboratorial  \n",
              "3                       NaN          NaN                      NaN  \n",
              "4                       NaN          NaN                      NaN  "
            ]
          },
          "metadata": {
            "tags": []
          },
          "execution_count": 14
        }
      ]
    },
    {
      "cell_type": "markdown",
      "metadata": {
        "id": "MT3gkN8ND7py"
      },
      "source": [
        "**Histograma**\r\n",
        "\r\n",
        "De maneira resumida, um histograma é uma representação gráfica, em colunas(retângulos), de um conjunto de dados previamento divididos em classes uniformes. Também é conhecido como \"Diagrama de Dispersão de Frequência\".\r\n",
        "Tem como objetivo fornecer um caminho para avaliar a distribuição dos dados e permitir a verificação do comportamento de um processo em relação a sua especificação.\r\n",
        "\r\n",
        "Sem saber nada sobre a variável 'ProfissionalSaude', veja como só olhar o histograma facilita o trabalho."
      ]
    },
    {
      "cell_type": "code",
      "metadata": {
        "colab": {
          "base_uri": "https://localhost:8080/",
          "height": 265
        },
        "id": "4Y7cIJl6FR0X",
        "outputId": "8d16232a-f45b-435e-bbd5-60676ca4ef58"
      },
      "source": [
        "#plotar o histograma se a pessoa é profissional da saúde ou não.\r\n",
        "df['profissionalSaude'].hist();"
      ],
      "execution_count": 15,
      "outputs": [
        {
          "output_type": "display_data",
          "data": {
            "image/png": "[encoded data removed]",
            "text/plain": [
              "<Figure size 432x288 with 1 Axes>"
            ]
          },
          "metadata": {
            "tags": [],
            "needs_background": "light"
          }
        }
      ]
    },
    {
      "cell_type": "markdown",
      "metadata": {
        "id": "xNPuYABGT0x4"
      },
      "source": [
        "Analisando rapidamente o gráfico acima, conseguimos identificar que no primeiro volume de casos suspeitos registrados no Estado de São Paulo, a grande maioria não são profissionais da área da saúde.\r\n",
        "\r\n",
        "Conseguimos também identificar o sexo do indivíduo conforme gráfico a seguir:"
      ]
    },
    {
      "cell_type": "code",
      "metadata": {
        "colab": {
          "base_uri": "https://localhost:8080/",
          "height": 265
        },
        "id": "uUk8hGgDRkOg",
        "outputId": "ea43a04f-d3a6-43e5-f0e3-26fa329f4d32"
      },
      "source": [
        "#plotar o histograma com o sexo do indivíduo\r\n",
        "df['sexo'].hist();"
      ],
      "execution_count": 17,
      "outputs": [
        {
          "output_type": "display_data",
          "data": {
            "image/png": "[encoded data removed]",
            "text/plain": [
              "<Figure size 432x288 with 1 Axes>"
            ]
          },
          "metadata": {
            "tags": [],
            "needs_background": "light"
          }
        }
      ]
    },
    {
      "cell_type": "markdown",
      "metadata": {
        "id": "uvK4uLlgUV2K"
      },
      "source": [
        "Além de identificarmos se o indíviduo é da área da saúde ou não e o seu sexo, conseguimos identificar se o resultado do teste foi \"Positivo\" ou \"Negativo\" conforme gráfico a seguir:"
      ]
    },
    {
      "cell_type": "code",
      "metadata": {
        "colab": {
          "base_uri": "https://localhost:8080/",
          "height": 267
        },
        "id": "FYx1htgmSR5U",
        "outputId": "24c3d0f3-7690-4b8f-d7a4-26f8094a936d"
      },
      "source": [
        "#plotar histograma com resultado do teste\r\n",
        "df['resultadoTeste'].hist();"
      ],
      "execution_count": 18,
      "outputs": [
        {
          "output_type": "display_data",
          "data": {
            "image/png": "[encoded data removed]",
            "text/plain": [
              "<Figure size 432x288 with 1 Axes>"
            ]
          },
          "metadata": {
            "tags": [],
            "needs_background": "light"
          }
        }
      ]
    },
    {
      "cell_type": "markdown",
      "metadata": {
        "id": "w3n8FIL3GIqG"
      },
      "source": [
        "Conforme observamos, o histograma facilita o entendimento de uma grande quantidade de dados e auxilia na avaliação da dispersão de frequência."
      ]
    }
  ]
}